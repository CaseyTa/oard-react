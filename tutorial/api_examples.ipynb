{
 "cells": [
  {
   "cell_type": "code",
   "execution_count": 9,
   "metadata": {},
   "outputs": [],
   "source": [
    "import requests\n",
    "import pandas as pd\n",
    "import numpy as np\n",
    "import matplotlib.pyplot as plt\n",
    "import io"
   ]
  },
  {
   "cell_type": "code",
   "execution_count": 4,
   "metadata": {},
   "outputs": [],
   "source": [
    "url = 'https://rare.cohd.io/api'"
   ]
  },
  {
   "cell_type": "markdown",
   "metadata": {},
   "source": [
    "##### View Dataset"
   ]
  },
  {
   "cell_type": "code",
   "execution_count": 24,
   "metadata": {},
   "outputs": [
    {
     "name": "stdout",
     "output_type": "stream",
     "text": [
      "<Response [200]>\n"
     ]
    },
    {
     "name": "stderr",
     "output_type": "stream",
     "text": [
      "/Users/cl3720/anaconda3/lib/python3.7/site-packages/urllib3/connectionpool.py:857: InsecureRequestWarning: Unverified HTTPS request is being made. Adding certificate verification is strongly advised. See: https://urllib3.readthedocs.io/en/latest/advanced-usage.html#ssl-warnings\n",
      "  InsecureRequestWarning)\n"
     ]
    },
    {
     "data": {
      "text/html": [
       "<div>\n",
       "<style scoped>\n",
       "    .dataframe tbody tr th:only-of-type {\n",
       "        vertical-align: middle;\n",
       "    }\n",
       "\n",
       "    .dataframe tbody tr th {\n",
       "        vertical-align: top;\n",
       "    }\n",
       "\n",
       "    .dataframe thead th {\n",
       "        text-align: right;\n",
       "    }\n",
       "</style>\n",
       "<table border=\"1\" class=\"dataframe\">\n",
       "  <thead>\n",
       "    <tr style=\"text-align: right;\">\n",
       "      <th></th>\n",
       "      <th>clinical_site</th>\n",
       "      <th>dataset_id</th>\n",
       "      <th>source</th>\n",
       "      <th>subclass_category</th>\n",
       "      <th>subpopulation</th>\n",
       "    </tr>\n",
       "  </thead>\n",
       "  <tbody>\n",
       "    <tr>\n",
       "      <th>0</th>\n",
       "      <td>cuimc</td>\n",
       "      <td>1</td>\n",
       "      <td>ohdsi</td>\n",
       "      <td>all\\r</td>\n",
       "      <td>all</td>\n",
       "    </tr>\n",
       "    <tr>\n",
       "      <th>1</th>\n",
       "      <td>cuimc</td>\n",
       "      <td>2</td>\n",
       "      <td>notes</td>\n",
       "      <td>all\\r</td>\n",
       "      <td>all</td>\n",
       "    </tr>\n",
       "    <tr>\n",
       "      <th>2</th>\n",
       "      <td>chop</td>\n",
       "      <td>3</td>\n",
       "      <td>notes</td>\n",
       "      <td>all\\r</td>\n",
       "      <td>all</td>\n",
       "    </tr>\n",
       "    <tr>\n",
       "      <th>3</th>\n",
       "      <td>cuimc</td>\n",
       "      <td>10</td>\n",
       "      <td>ohdsi</td>\n",
       "      <td>neonates (0-2)\\r</td>\n",
       "      <td>age</td>\n",
       "    </tr>\n",
       "    <tr>\n",
       "      <th>4</th>\n",
       "      <td>cuimc</td>\n",
       "      <td>11</td>\n",
       "      <td>ohdsi</td>\n",
       "      <td>kid (3-11)\\r</td>\n",
       "      <td>age</td>\n",
       "    </tr>\n",
       "  </tbody>\n",
       "</table>\n",
       "</div>"
      ],
      "text/plain": [
       "  clinical_site  dataset_id source subclass_category subpopulation\n",
       "0         cuimc           1  ohdsi             all\\r           all\n",
       "1         cuimc           2  notes             all\\r           all\n",
       "2          chop           3  notes             all\\r           all\n",
       "3         cuimc          10  ohdsi  neonates (0-2)\\r           age\n",
       "4         cuimc          11  ohdsi      kid (3-11)\\r           age"
      ]
     },
     "execution_count": 24,
     "metadata": {},
     "output_type": "execute_result"
    }
   ],
   "source": [
    "response = requests.get(url + '/metadata/datasets', verify=False)\n",
    "print(response)\n",
    "response_json = response.json()\n",
    "dataset_df = pd.DataFrame(response_json['results'])\n",
    "dataset_df.head()"
   ]
  },
  {
   "cell_type": "markdown",
   "metadata": {},
   "source": [
    "##### View domain counts\n",
    "- view the number of concepts with larger than 10 patient counts for different domains in a given dataset"
   ]
  },
  {
   "cell_type": "code",
   "execution_count": 28,
   "metadata": {},
   "outputs": [
    {
     "name": "stdout",
     "output_type": "stream",
     "text": [
      "<Response [200]>\n"
     ]
    },
    {
     "name": "stderr",
     "output_type": "stream",
     "text": [
      "/Users/cl3720/anaconda3/lib/python3.7/site-packages/urllib3/connectionpool.py:857: InsecureRequestWarning: Unverified HTTPS request is being made. Adding certificate verification is strongly advised. See: https://urllib3.readthedocs.io/en/latest/advanced-usage.html#ssl-warnings\n",
      "  InsecureRequestWarning)\n"
     ]
    },
    {
     "data": {
      "text/html": [
       "<div>\n",
       "<style scoped>\n",
       "    .dataframe tbody tr th:only-of-type {\n",
       "        vertical-align: middle;\n",
       "    }\n",
       "\n",
       "    .dataframe tbody tr th {\n",
       "        vertical-align: top;\n",
       "    }\n",
       "\n",
       "    .dataframe thead th {\n",
       "        text-align: right;\n",
       "    }\n",
       "</style>\n",
       "<table border=\"1\" class=\"dataframe\">\n",
       "  <thead>\n",
       "    <tr style=\"text-align: right;\">\n",
       "      <th></th>\n",
       "      <th>count</th>\n",
       "      <th>dataset_id</th>\n",
       "      <th>domain_id</th>\n",
       "    </tr>\n",
       "  </thead>\n",
       "  <tbody>\n",
       "    <tr>\n",
       "      <th>0</th>\n",
       "      <td>2390</td>\n",
       "      <td>2</td>\n",
       "      <td>diseases</td>\n",
       "    </tr>\n",
       "    <tr>\n",
       "      <th>1</th>\n",
       "      <td>5968</td>\n",
       "      <td>2</td>\n",
       "      <td>phenotypes</td>\n",
       "    </tr>\n",
       "  </tbody>\n",
       "</table>\n",
       "</div>"
      ],
      "text/plain": [
       "   count  dataset_id   domain_id\n",
       "0   2390           2    diseases\n",
       "1   5968           2  phenotypes"
      ]
     },
     "execution_count": 28,
     "metadata": {},
     "output_type": "execute_result"
    }
   ],
   "source": [
    "params = {\"dataset_id\" : \"2\"}\n",
    "response = requests.get(url + '/metadata/domainCounts',params= params, verify=False)\n",
    "print(response)\n",
    "response_json = response.json()\n",
    "domain_counts_df = pd.DataFrame(response_json['results'])\n",
    "domain_counts_df.head()"
   ]
  },
  {
   "cell_type": "markdown",
   "metadata": {},
   "source": [
    "##### View domain pair counts\n",
    "- view the number of concept pairs with larger than 10 patient counts for different domains in a given dataset\n",
    "- notice the concept pair is recorded in a sequence (i.e. no phenotype-disease concept pairs) so that the same disease-phenotype pair only counted once."
   ]
  },
  {
   "cell_type": "code",
   "execution_count": 29,
   "metadata": {},
   "outputs": [
    {
     "name": "stdout",
     "output_type": "stream",
     "text": [
      "<Response [200]>\n"
     ]
    },
    {
     "name": "stderr",
     "output_type": "stream",
     "text": [
      "/Users/cl3720/anaconda3/lib/python3.7/site-packages/urllib3/connectionpool.py:857: InsecureRequestWarning: Unverified HTTPS request is being made. Adding certificate verification is strongly advised. See: https://urllib3.readthedocs.io/en/latest/advanced-usage.html#ssl-warnings\n",
      "  InsecureRequestWarning)\n"
     ]
    },
    {
     "data": {
      "text/html": [
       "<div>\n",
       "<style scoped>\n",
       "    .dataframe tbody tr th:only-of-type {\n",
       "        vertical-align: middle;\n",
       "    }\n",
       "\n",
       "    .dataframe tbody tr th {\n",
       "        vertical-align: top;\n",
       "    }\n",
       "\n",
       "    .dataframe thead th {\n",
       "        text-align: right;\n",
       "    }\n",
       "</style>\n",
       "<table border=\"1\" class=\"dataframe\">\n",
       "  <thead>\n",
       "    <tr style=\"text-align: right;\">\n",
       "      <th></th>\n",
       "      <th>count</th>\n",
       "      <th>dataset_id</th>\n",
       "      <th>domain_id_1</th>\n",
       "      <th>domain_id_2</th>\n",
       "    </tr>\n",
       "  </thead>\n",
       "  <tbody>\n",
       "    <tr>\n",
       "      <th>0</th>\n",
       "      <td>23329</td>\n",
       "      <td>2</td>\n",
       "      <td>diseases</td>\n",
       "      <td>diseases</td>\n",
       "    </tr>\n",
       "    <tr>\n",
       "      <th>1</th>\n",
       "      <td>404993</td>\n",
       "      <td>2</td>\n",
       "      <td>diseases</td>\n",
       "      <td>phenotypes</td>\n",
       "    </tr>\n",
       "    <tr>\n",
       "      <th>2</th>\n",
       "      <td>1320156</td>\n",
       "      <td>2</td>\n",
       "      <td>phenotypes</td>\n",
       "      <td>phenotypes</td>\n",
       "    </tr>\n",
       "  </tbody>\n",
       "</table>\n",
       "</div>"
      ],
      "text/plain": [
       "     count  dataset_id domain_id_1 domain_id_2\n",
       "0    23329           2    diseases    diseases\n",
       "1   404993           2    diseases  phenotypes\n",
       "2  1320156           2  phenotypes  phenotypes"
      ]
     },
     "execution_count": 29,
     "metadata": {},
     "output_type": "execute_result"
    }
   ],
   "source": [
    "params = {\"dataset_id\" : \"2\"}\n",
    "response = requests.get(url + '/metadata/domainPairCounts',params= params, verify=False)\n",
    "print(response)\n",
    "response_json = response.json()\n",
    "domain_counts_df = pd.DataFrame(response_json['results'])\n",
    "domain_counts_df.head()"
   ]
  },
  {
   "cell_type": "markdown",
   "metadata": {},
   "source": [
    "##### View patient counts"
   ]
  },
  {
   "cell_type": "code",
   "execution_count": 30,
   "metadata": {},
   "outputs": [
    {
     "name": "stdout",
     "output_type": "stream",
     "text": [
      "<Response [200]>\n"
     ]
    },
    {
     "name": "stderr",
     "output_type": "stream",
     "text": [
      "/Users/cl3720/anaconda3/lib/python3.7/site-packages/urllib3/connectionpool.py:857: InsecureRequestWarning: Unverified HTTPS request is being made. Adding certificate verification is strongly advised. See: https://urllib3.readthedocs.io/en/latest/advanced-usage.html#ssl-warnings\n",
      "  InsecureRequestWarning)\n"
     ]
    },
    {
     "data": {
      "text/html": [
       "<div>\n",
       "<style scoped>\n",
       "    .dataframe tbody tr th:only-of-type {\n",
       "        vertical-align: middle;\n",
       "    }\n",
       "\n",
       "    .dataframe tbody tr th {\n",
       "        vertical-align: top;\n",
       "    }\n",
       "\n",
       "    .dataframe thead th {\n",
       "        text-align: right;\n",
       "    }\n",
       "</style>\n",
       "<table border=\"1\" class=\"dataframe\">\n",
       "  <thead>\n",
       "    <tr style=\"text-align: right;\">\n",
       "      <th></th>\n",
       "      <th>count</th>\n",
       "      <th>dataset_id</th>\n",
       "    </tr>\n",
       "  </thead>\n",
       "  <tbody>\n",
       "    <tr>\n",
       "      <th>0</th>\n",
       "      <td>1349866</td>\n",
       "      <td>2</td>\n",
       "    </tr>\n",
       "  </tbody>\n",
       "</table>\n",
       "</div>"
      ],
      "text/plain": [
       "     count  dataset_id\n",
       "0  1349866           2"
      ]
     },
     "execution_count": 30,
     "metadata": {},
     "output_type": "execute_result"
    }
   ],
   "source": [
    "params = {\"dataset_id\" : \"2\"}\n",
    "response = requests.get(url + '/metadata/patientCounts',params= params, verify=False)\n",
    "print(response)\n",
    "response_json = response.json()\n",
    "domain_counts_df = pd.DataFrame(response_json['results'])\n",
    "domain_counts_df.head()"
   ]
  },
  {
   "cell_type": "markdown",
   "metadata": {},
   "source": [
    "##### View most frequently occurred concept in a dataset"
   ]
  },
  {
   "cell_type": "code",
   "execution_count": 32,
   "metadata": {},
   "outputs": [
    {
     "name": "stderr",
     "output_type": "stream",
     "text": [
      "/Users/cl3720/anaconda3/lib/python3.7/site-packages/urllib3/connectionpool.py:857: InsecureRequestWarning: Unverified HTTPS request is being made. Adding certificate verification is strongly advised. See: https://urllib3.readthedocs.io/en/latest/advanced-usage.html#ssl-warnings\n",
      "  InsecureRequestWarning)\n"
     ]
    },
    {
     "name": "stdout",
     "output_type": "stream",
     "text": [
      "<Response [200]>\n"
     ]
    },
    {
     "data": {
      "text/html": [
       "<div>\n",
       "<style scoped>\n",
       "    .dataframe tbody tr th:only-of-type {\n",
       "        vertical-align: middle;\n",
       "    }\n",
       "\n",
       "    .dataframe tbody tr th {\n",
       "        vertical-align: top;\n",
       "    }\n",
       "\n",
       "    .dataframe thead th {\n",
       "        text-align: right;\n",
       "    }\n",
       "</style>\n",
       "<table border=\"1\" class=\"dataframe\">\n",
       "  <thead>\n",
       "    <tr style=\"text-align: right;\">\n",
       "      <th></th>\n",
       "      <th>concept_code</th>\n",
       "      <th>concept_count</th>\n",
       "      <th>concept_frequency</th>\n",
       "      <th>concept_id</th>\n",
       "      <th>concept_name</th>\n",
       "      <th>domain_id</th>\n",
       "      <th>vocabulary_id</th>\n",
       "    </tr>\n",
       "  </thead>\n",
       "  <tbody>\n",
       "    <tr>\n",
       "      <th>0</th>\n",
       "      <td>MONDO:0008315</td>\n",
       "      <td>46354</td>\n",
       "      <td>0.034340</td>\n",
       "      <td>80008315</td>\n",
       "      <td>prostate cancer</td>\n",
       "      <td>diseases</td>\n",
       "      <td>mondo</td>\n",
       "    </tr>\n",
       "    <tr>\n",
       "      <th>1</th>\n",
       "      <td>MONDO:0007452</td>\n",
       "      <td>31192</td>\n",
       "      <td>0.023107</td>\n",
       "      <td>80007452</td>\n",
       "      <td>maturity-onset diabetes of the young type 1</td>\n",
       "      <td>diseases</td>\n",
       "      <td>mondo</td>\n",
       "    </tr>\n",
       "    <tr>\n",
       "      <th>2</th>\n",
       "      <td>MONDO:0009061</td>\n",
       "      <td>31061</td>\n",
       "      <td>0.023010</td>\n",
       "      <td>80009061</td>\n",
       "      <td>cystic fibrosis</td>\n",
       "      <td>diseases</td>\n",
       "      <td>mondo</td>\n",
       "    </tr>\n",
       "    <tr>\n",
       "      <th>3</th>\n",
       "      <td>MONDO:0007256</td>\n",
       "      <td>28812</td>\n",
       "      <td>0.021344</td>\n",
       "      <td>80007256</td>\n",
       "      <td>hepatocellular carcinoma</td>\n",
       "      <td>diseases</td>\n",
       "      <td>mondo</td>\n",
       "    </tr>\n",
       "    <tr>\n",
       "      <th>4</th>\n",
       "      <td>MONDO:0004994</td>\n",
       "      <td>24388</td>\n",
       "      <td>0.018067</td>\n",
       "      <td>80004994</td>\n",
       "      <td>cardiomyopathy</td>\n",
       "      <td>diseases</td>\n",
       "      <td>mondo</td>\n",
       "    </tr>\n",
       "  </tbody>\n",
       "</table>\n",
       "</div>"
      ],
      "text/plain": [
       "    concept_code  concept_count  concept_frequency  concept_id  \\\n",
       "0  MONDO:0008315          46354           0.034340    80008315   \n",
       "1  MONDO:0007452          31192           0.023107    80007452   \n",
       "2  MONDO:0009061          31061           0.023010    80009061   \n",
       "3  MONDO:0007256          28812           0.021344    80007256   \n",
       "4  MONDO:0004994          24388           0.018067    80004994   \n",
       "\n",
       "                                  concept_name domain_id vocabulary_id  \n",
       "0                              prostate cancer  diseases         mondo  \n",
       "1  maturity-onset diabetes of the young type 1  diseases         mondo  \n",
       "2                              cystic fibrosis  diseases         mondo  \n",
       "3                     hepatocellular carcinoma  diseases         mondo  \n",
       "4                               cardiomyopathy  diseases         mondo  "
      ]
     },
     "execution_count": 32,
     "metadata": {},
     "output_type": "execute_result"
    }
   ],
   "source": [
    "params = {\"dataset_id\" : \"2\", \"domain_id\": \"diseases\"}\n",
    "response = requests.get(url + '/frequencies/mostFrequency',params= params, verify=False)\n",
    "print(response)\n",
    "response_json = response.json()\n",
    "domain_counts_df = pd.DataFrame(response_json['results'])\n",
    "domain_counts_df.head()"
   ]
  },
  {
   "cell_type": "markdown",
   "metadata": {},
   "source": [
    "##### View most frequently co-occurred concepts a given concept in a dataset"
   ]
  },
  {
   "cell_type": "code",
   "execution_count": 33,
   "metadata": {},
   "outputs": [
    {
     "name": "stderr",
     "output_type": "stream",
     "text": [
      "/Users/cl3720/anaconda3/lib/python3.7/site-packages/urllib3/connectionpool.py:857: InsecureRequestWarning: Unverified HTTPS request is being made. Adding certificate verification is strongly advised. See: https://urllib3.readthedocs.io/en/latest/advanced-usage.html#ssl-warnings\n",
      "  InsecureRequestWarning)\n"
     ]
    },
    {
     "name": "stdout",
     "output_type": "stream",
     "text": [
      "<Response [200]>\n"
     ]
    },
    {
     "data": {
      "text/html": [
       "<div>\n",
       "<style scoped>\n",
       "    .dataframe tbody tr th:only-of-type {\n",
       "        vertical-align: middle;\n",
       "    }\n",
       "\n",
       "    .dataframe tbody tr th {\n",
       "        vertical-align: top;\n",
       "    }\n",
       "\n",
       "    .dataframe thead th {\n",
       "        text-align: right;\n",
       "    }\n",
       "</style>\n",
       "<table border=\"1\" class=\"dataframe\">\n",
       "  <thead>\n",
       "    <tr style=\"text-align: right;\">\n",
       "      <th></th>\n",
       "      <th>concept_code_1</th>\n",
       "      <th>concept_code_2</th>\n",
       "      <th>concept_count_1</th>\n",
       "      <th>concept_count_2</th>\n",
       "      <th>concept_frequency</th>\n",
       "      <th>concept_id_1</th>\n",
       "      <th>concept_id_2</th>\n",
       "      <th>concept_name_1</th>\n",
       "      <th>concept_name_2</th>\n",
       "      <th>concept_pair_count</th>\n",
       "      <th>domain_id_1</th>\n",
       "      <th>domain_id_2</th>\n",
       "      <th>vocabulary_id_1</th>\n",
       "      <th>vocabulary_id_2</th>\n",
       "    </tr>\n",
       "  </thead>\n",
       "  <tbody>\n",
       "    <tr>\n",
       "      <th>0</th>\n",
       "      <td>HP:0012461</td>\n",
       "      <td>HP:0012531</td>\n",
       "      <td>1874</td>\n",
       "      <td>476026</td>\n",
       "      <td>0.001133</td>\n",
       "      <td>90012461</td>\n",
       "      <td>90012531</td>\n",
       "      <td>Bacteriuria</td>\n",
       "      <td>Pain</td>\n",
       "      <td>1530</td>\n",
       "      <td>phenotypes</td>\n",
       "      <td>phenotypes</td>\n",
       "      <td>hpo</td>\n",
       "      <td>hpo</td>\n",
       "    </tr>\n",
       "    <tr>\n",
       "      <th>1</th>\n",
       "      <td>HP:0012461</td>\n",
       "      <td>HP:0002664</td>\n",
       "      <td>1874</td>\n",
       "      <td>320653</td>\n",
       "      <td>0.000842</td>\n",
       "      <td>90012461</td>\n",
       "      <td>90002664</td>\n",
       "      <td>Bacteriuria</td>\n",
       "      <td>Neoplasm</td>\n",
       "      <td>1137</td>\n",
       "      <td>phenotypes</td>\n",
       "      <td>phenotypes</td>\n",
       "      <td>hpo</td>\n",
       "      <td>hpo</td>\n",
       "    </tr>\n",
       "    <tr>\n",
       "      <th>2</th>\n",
       "      <td>HP:0012461</td>\n",
       "      <td>HP:0000822</td>\n",
       "      <td>1874</td>\n",
       "      <td>234731</td>\n",
       "      <td>0.000730</td>\n",
       "      <td>90012461</td>\n",
       "      <td>90000822</td>\n",
       "      <td>Bacteriuria</td>\n",
       "      <td>Hypertension</td>\n",
       "      <td>986</td>\n",
       "      <td>phenotypes</td>\n",
       "      <td>phenotypes</td>\n",
       "      <td>hpo</td>\n",
       "      <td>hpo</td>\n",
       "    </tr>\n",
       "    <tr>\n",
       "      <th>3</th>\n",
       "      <td>HP:0012461</td>\n",
       "      <td>HP:0100518</td>\n",
       "      <td>1874</td>\n",
       "      <td>65685</td>\n",
       "      <td>0.000646</td>\n",
       "      <td>90012461</td>\n",
       "      <td>90100518</td>\n",
       "      <td>Bacteriuria</td>\n",
       "      <td>Dysuria</td>\n",
       "      <td>872</td>\n",
       "      <td>phenotypes</td>\n",
       "      <td>phenotypes</td>\n",
       "      <td>hpo</td>\n",
       "      <td>hpo</td>\n",
       "    </tr>\n",
       "    <tr>\n",
       "      <th>4</th>\n",
       "      <td>HP:0012461</td>\n",
       "      <td>HP:0000790</td>\n",
       "      <td>1874</td>\n",
       "      <td>59769</td>\n",
       "      <td>0.000622</td>\n",
       "      <td>90012461</td>\n",
       "      <td>90000790</td>\n",
       "      <td>Bacteriuria</td>\n",
       "      <td>Hematuria</td>\n",
       "      <td>839</td>\n",
       "      <td>phenotypes</td>\n",
       "      <td>phenotypes</td>\n",
       "      <td>hpo</td>\n",
       "      <td>hpo</td>\n",
       "    </tr>\n",
       "  </tbody>\n",
       "</table>\n",
       "</div>"
      ],
      "text/plain": [
       "  concept_code_1 concept_code_2  concept_count_1  concept_count_2  \\\n",
       "0     HP:0012461     HP:0012531             1874           476026   \n",
       "1     HP:0012461     HP:0002664             1874           320653   \n",
       "2     HP:0012461     HP:0000822             1874           234731   \n",
       "3     HP:0012461     HP:0100518             1874            65685   \n",
       "4     HP:0012461     HP:0000790             1874            59769   \n",
       "\n",
       "   concept_frequency  concept_id_1  concept_id_2 concept_name_1  \\\n",
       "0           0.001133      90012461      90012531    Bacteriuria   \n",
       "1           0.000842      90012461      90002664    Bacteriuria   \n",
       "2           0.000730      90012461      90000822    Bacteriuria   \n",
       "3           0.000646      90012461      90100518    Bacteriuria   \n",
       "4           0.000622      90012461      90000790    Bacteriuria   \n",
       "\n",
       "  concept_name_2  concept_pair_count domain_id_1 domain_id_2 vocabulary_id_1  \\\n",
       "0           Pain                1530  phenotypes  phenotypes             hpo   \n",
       "1       Neoplasm                1137  phenotypes  phenotypes             hpo   \n",
       "2   Hypertension                 986  phenotypes  phenotypes             hpo   \n",
       "3        Dysuria                 872  phenotypes  phenotypes             hpo   \n",
       "4      Hematuria                 839  phenotypes  phenotypes             hpo   \n",
       "\n",
       "  vocabulary_id_2  \n",
       "0             hpo  \n",
       "1             hpo  \n",
       "2             hpo  \n",
       "3             hpo  \n",
       "4             hpo  "
      ]
     },
     "execution_count": 33,
     "metadata": {},
     "output_type": "execute_result"
    }
   ],
   "source": [
    "params = {\"dataset_id\" : \"2\", \"concept_id\": 90012461}\n",
    "response = requests.get(url + '/frequencies/mostFrequency',params= params, verify=False)\n",
    "print(response)\n",
    "response_json = response.json()\n",
    "domain_counts_df = pd.DataFrame(response_json['results'])\n",
    "domain_counts_df.head()"
   ]
  },
  {
   "cell_type": "markdown",
   "metadata": {},
   "source": [
    "##### View concept pair frequency\n",
    "- to save time, multiple concepts can be inputted (seperated by ;)"
   ]
  },
  {
   "cell_type": "code",
   "execution_count": 36,
   "metadata": {},
   "outputs": [
    {
     "name": "stderr",
     "output_type": "stream",
     "text": [
      "/Users/cl3720/anaconda3/lib/python3.7/site-packages/urllib3/connectionpool.py:857: InsecureRequestWarning: Unverified HTTPS request is being made. Adding certificate verification is strongly advised. See: https://urllib3.readthedocs.io/en/latest/advanced-usage.html#ssl-warnings\n",
      "  InsecureRequestWarning)\n"
     ]
    },
    {
     "name": "stdout",
     "output_type": "stream",
     "text": [
      "<Response [200]>\n"
     ]
    },
    {
     "data": {
      "text/html": [
       "<div>\n",
       "<style scoped>\n",
       "    .dataframe tbody tr th:only-of-type {\n",
       "        vertical-align: middle;\n",
       "    }\n",
       "\n",
       "    .dataframe tbody tr th {\n",
       "        vertical-align: top;\n",
       "    }\n",
       "\n",
       "    .dataframe thead th {\n",
       "        text-align: right;\n",
       "    }\n",
       "</style>\n",
       "<table border=\"1\" class=\"dataframe\">\n",
       "  <thead>\n",
       "    <tr style=\"text-align: right;\">\n",
       "      <th></th>\n",
       "      <th>concept_code_1</th>\n",
       "      <th>concept_code_2</th>\n",
       "      <th>concept_count_1</th>\n",
       "      <th>concept_count_2</th>\n",
       "      <th>concept_frequency</th>\n",
       "      <th>concept_id_1</th>\n",
       "      <th>concept_id_2</th>\n",
       "      <th>concept_name_1</th>\n",
       "      <th>concept_name_2</th>\n",
       "      <th>concept_pair_count</th>\n",
       "      <th>domain_id_1</th>\n",
       "      <th>domain_id_2</th>\n",
       "      <th>vocabulary_id_1</th>\n",
       "      <th>vocabulary_id_2</th>\n",
       "    </tr>\n",
       "  </thead>\n",
       "  <tbody>\n",
       "    <tr>\n",
       "      <th>0</th>\n",
       "      <td>HP:0012461</td>\n",
       "      <td>HP:0500111</td>\n",
       "      <td>50915</td>\n",
       "      <td>6478</td>\n",
       "      <td>0.00039</td>\n",
       "      <td>90012461</td>\n",
       "      <td>90500111</td>\n",
       "      <td>Bacteriuria</td>\n",
       "      <td>Positive urine benzodiazepines test</td>\n",
       "      <td>953</td>\n",
       "      <td>phenotypes</td>\n",
       "      <td>phenotypes</td>\n",
       "      <td>hpo</td>\n",
       "      <td>hpo</td>\n",
       "    </tr>\n",
       "  </tbody>\n",
       "</table>\n",
       "</div>"
      ],
      "text/plain": [
       "  concept_code_1 concept_code_2  concept_count_1  concept_count_2  \\\n",
       "0     HP:0012461     HP:0500111            50915             6478   \n",
       "\n",
       "   concept_frequency  concept_id_1  concept_id_2 concept_name_1  \\\n",
       "0            0.00039      90012461      90500111    Bacteriuria   \n",
       "\n",
       "                        concept_name_2  concept_pair_count domain_id_1  \\\n",
       "0  Positive urine benzodiazepines test                 953  phenotypes   \n",
       "\n",
       "  domain_id_2 vocabulary_id_1 vocabulary_id_2  \n",
       "0  phenotypes             hpo             hpo  "
      ]
     },
     "execution_count": 36,
     "metadata": {},
     "output_type": "execute_result"
    }
   ],
   "source": [
    "params = {\"dataset_id\" : \"1\", \"concept_id_1\": \"90012461;90003641\", \"concept_id_2\": \"90500111\"}\n",
    "response = requests.get(url + '/frequencies/pairedConceptFreq',params= params, verify=False)\n",
    "print(response)\n",
    "response_json = response.json()\n",
    "domain_counts_df = pd.DataFrame(response_json['results'])\n",
    "domain_counts_df.head()"
   ]
  },
  {
   "cell_type": "markdown",
   "metadata": {},
   "source": [
    "##### View concept single concept frequency\n",
    "- to save time, multiple concepts can be inputted (seperated by ;)"
   ]
  },
  {
   "cell_type": "code",
   "execution_count": 38,
   "metadata": {},
   "outputs": [
    {
     "name": "stdout",
     "output_type": "stream",
     "text": [
      "<Response [200]>\n"
     ]
    },
    {
     "name": "stderr",
     "output_type": "stream",
     "text": [
      "/Users/cl3720/anaconda3/lib/python3.7/site-packages/urllib3/connectionpool.py:857: InsecureRequestWarning: Unverified HTTPS request is being made. Adding certificate verification is strongly advised. See: https://urllib3.readthedocs.io/en/latest/advanced-usage.html#ssl-warnings\n",
      "  InsecureRequestWarning)\n"
     ]
    },
    {
     "data": {
      "text/html": [
       "<div>\n",
       "<style scoped>\n",
       "    .dataframe tbody tr th:only-of-type {\n",
       "        vertical-align: middle;\n",
       "    }\n",
       "\n",
       "    .dataframe tbody tr th {\n",
       "        vertical-align: top;\n",
       "    }\n",
       "\n",
       "    .dataframe thead th {\n",
       "        text-align: right;\n",
       "    }\n",
       "</style>\n",
       "<table border=\"1\" class=\"dataframe\">\n",
       "  <thead>\n",
       "    <tr style=\"text-align: right;\">\n",
       "      <th></th>\n",
       "      <th>concept_code</th>\n",
       "      <th>concept_count</th>\n",
       "      <th>concept_frequency</th>\n",
       "      <th>concept_id</th>\n",
       "      <th>concept_name</th>\n",
       "      <th>domain_id</th>\n",
       "      <th>vocabulary_id</th>\n",
       "    </tr>\n",
       "  </thead>\n",
       "  <tbody>\n",
       "    <tr>\n",
       "      <th>0</th>\n",
       "      <td>HP:0012461</td>\n",
       "      <td>50915</td>\n",
       "      <td>0.020852</td>\n",
       "      <td>90012461</td>\n",
       "      <td>Bacteriuria</td>\n",
       "      <td>phenotypes</td>\n",
       "      <td>hpo</td>\n",
       "    </tr>\n",
       "    <tr>\n",
       "      <th>1</th>\n",
       "      <td>HP:0003641</td>\n",
       "      <td>331</td>\n",
       "      <td>0.000136</td>\n",
       "      <td>90003641</td>\n",
       "      <td>Hemoglobinuria</td>\n",
       "      <td>phenotypes</td>\n",
       "      <td>hpo</td>\n",
       "    </tr>\n",
       "  </tbody>\n",
       "</table>\n",
       "</div>"
      ],
      "text/plain": [
       "  concept_code  concept_count  concept_frequency  concept_id    concept_name  \\\n",
       "0   HP:0012461          50915           0.020852    90012461     Bacteriuria   \n",
       "1   HP:0003641            331           0.000136    90003641  Hemoglobinuria   \n",
       "\n",
       "    domain_id vocabulary_id  \n",
       "0  phenotypes           hpo  \n",
       "1  phenotypes           hpo  "
      ]
     },
     "execution_count": 38,
     "metadata": {},
     "output_type": "execute_result"
    }
   ],
   "source": [
    "params = {\"dataset_id\" : \"1\", \"concept_id\": \"90012461;90003641\"}\n",
    "response = requests.get(url + '/frequencies/singleConceptFreq',params= params, verify=False)\n",
    "print(response)\n",
    "response_json = response.json()\n",
    "domain_counts_df = pd.DataFrame(response_json['results'])\n",
    "domain_counts_df.head()"
   ]
  },
  {
   "cell_type": "markdown",
   "metadata": {},
   "source": [
    "##### View chi-square of concept pairs\n",
    "- to save time, multiple concepts can be inputted (seperated by ;)\n",
    "- if not concept_id_2 provided, concept pair with largest chi-square will be returned\n",
    "- it is similar to other statistics"
   ]
  },
  {
   "cell_type": "code",
   "execution_count": 42,
   "metadata": {},
   "outputs": [
    {
     "name": "stdout",
     "output_type": "stream",
     "text": [
      "<Response [200]>\n"
     ]
    },
    {
     "name": "stderr",
     "output_type": "stream",
     "text": [
      "/Users/cl3720/anaconda3/lib/python3.7/site-packages/urllib3/connectionpool.py:857: InsecureRequestWarning: Unverified HTTPS request is being made. Adding certificate verification is strongly advised. See: https://urllib3.readthedocs.io/en/latest/advanced-usage.html#ssl-warnings\n",
      "  InsecureRequestWarning)\n"
     ]
    },
    {
     "data": {
      "text/html": [
       "<div>\n",
       "<style scoped>\n",
       "    .dataframe tbody tr th:only-of-type {\n",
       "        vertical-align: middle;\n",
       "    }\n",
       "\n",
       "    .dataframe tbody tr th {\n",
       "        vertical-align: top;\n",
       "    }\n",
       "\n",
       "    .dataframe thead th {\n",
       "        text-align: right;\n",
       "    }\n",
       "</style>\n",
       "<table border=\"1\" class=\"dataframe\">\n",
       "  <thead>\n",
       "    <tr style=\"text-align: right;\">\n",
       "      <th></th>\n",
       "      <th>concept_code_2</th>\n",
       "      <th>concept_id_2</th>\n",
       "      <th>concept_name_2</th>\n",
       "      <th>domain_id_2</th>\n",
       "      <th>vocabulary_id_2</th>\n",
       "      <th>ws_cs</th>\n",
       "      <th>z_details</th>\n",
       "    </tr>\n",
       "  </thead>\n",
       "  <tbody>\n",
       "    <tr>\n",
       "      <th>0</th>\n",
       "      <td>HP:0500111</td>\n",
       "      <td>90500111</td>\n",
       "      <td>Positive urine benzodiazepines test</td>\n",
       "      <td>phenotypes</td>\n",
       "      <td>hpo</td>\n",
       "      <td>5071.550474</td>\n",
       "      <td>[{'adj_p': 0.0, 'concept_code_1': 'HP:0012461'...</td>\n",
       "    </tr>\n",
       "  </tbody>\n",
       "</table>\n",
       "</div>"
      ],
      "text/plain": [
       "  concept_code_2  concept_id_2                       concept_name_2  \\\n",
       "0     HP:0500111      90500111  Positive urine benzodiazepines test   \n",
       "\n",
       "  domain_id_2 vocabulary_id_2        ws_cs  \\\n",
       "0  phenotypes             hpo  5071.550474   \n",
       "\n",
       "                                           z_details  \n",
       "0  [{'adj_p': 0.0, 'concept_code_1': 'HP:0012461'...  "
      ]
     },
     "execution_count": 42,
     "metadata": {},
     "output_type": "execute_result"
    }
   ],
   "source": [
    "params = {\"dataset_id\" : \"1\", \"concept_id_1\": \"90012461;90003641\", \"concept_id_2\": \"90500111\"}\n",
    "response = requests.get(url + '/association/chiSquare',params= params, verify=False)\n",
    "print(response)\n",
    "response_json = response.json()\n",
    "domain_counts_df = pd.DataFrame(response_json['results'])\n",
    "domain_counts_df.head()"
   ]
  },
  {
   "cell_type": "code",
   "execution_count": 44,
   "metadata": {},
   "outputs": [
    {
     "name": "stderr",
     "output_type": "stream",
     "text": [
      "/Users/cl3720/anaconda3/lib/python3.7/site-packages/urllib3/connectionpool.py:857: InsecureRequestWarning: Unverified HTTPS request is being made. Adding certificate verification is strongly advised. See: https://urllib3.readthedocs.io/en/latest/advanced-usage.html#ssl-warnings\n",
      "  InsecureRequestWarning)\n"
     ]
    },
    {
     "name": "stdout",
     "output_type": "stream",
     "text": [
      "<Response [200]>\n"
     ]
    },
    {
     "data": {
      "text/html": [
       "<div>\n",
       "<style scoped>\n",
       "    .dataframe tbody tr th:only-of-type {\n",
       "        vertical-align: middle;\n",
       "    }\n",
       "\n",
       "    .dataframe tbody tr th {\n",
       "        vertical-align: top;\n",
       "    }\n",
       "\n",
       "    .dataframe thead th {\n",
       "        text-align: right;\n",
       "    }\n",
       "</style>\n",
       "<table border=\"1\" class=\"dataframe\">\n",
       "  <thead>\n",
       "    <tr style=\"text-align: right;\">\n",
       "      <th></th>\n",
       "      <th>concept_code_2</th>\n",
       "      <th>concept_id_2</th>\n",
       "      <th>concept_name_2</th>\n",
       "      <th>domain_id_2</th>\n",
       "      <th>vocabulary_id_2</th>\n",
       "      <th>ws_cs</th>\n",
       "      <th>z_details</th>\n",
       "    </tr>\n",
       "  </thead>\n",
       "  <tbody>\n",
       "    <tr>\n",
       "      <th>0</th>\n",
       "      <td>HP:0031812</td>\n",
       "      <td>90031812</td>\n",
       "      <td>Nitrituria</td>\n",
       "      <td>phenotypes</td>\n",
       "      <td>hpo</td>\n",
       "      <td>138293.218337</td>\n",
       "      <td>[{'adj_p': 0.0, 'concept_code_1': 'HP:0012461'...</td>\n",
       "    </tr>\n",
       "    <tr>\n",
       "      <th>1</th>\n",
       "      <td>HP:0100518</td>\n",
       "      <td>90100518</td>\n",
       "      <td>Dysuria</td>\n",
       "      <td>phenotypes</td>\n",
       "      <td>hpo</td>\n",
       "      <td>47659.197756</td>\n",
       "      <td>[{'adj_p': 0.0, 'concept_code_1': 'HP:0012461'...</td>\n",
       "    </tr>\n",
       "    <tr>\n",
       "      <th>2</th>\n",
       "      <td>HP:0001649</td>\n",
       "      <td>90001649</td>\n",
       "      <td>Tachycardia</td>\n",
       "      <td>phenotypes</td>\n",
       "      <td>hpo</td>\n",
       "      <td>40400.379524</td>\n",
       "      <td>[{'adj_p': 0.0, 'concept_code_1': 'HP:0012461'...</td>\n",
       "    </tr>\n",
       "  </tbody>\n",
       "</table>\n",
       "</div>"
      ],
      "text/plain": [
       "  concept_code_2  concept_id_2 concept_name_2 domain_id_2 vocabulary_id_2  \\\n",
       "0     HP:0031812      90031812     Nitrituria  phenotypes             hpo   \n",
       "1     HP:0100518      90100518        Dysuria  phenotypes             hpo   \n",
       "2     HP:0001649      90001649    Tachycardia  phenotypes             hpo   \n",
       "\n",
       "           ws_cs                                          z_details  \n",
       "0  138293.218337  [{'adj_p': 0.0, 'concept_code_1': 'HP:0012461'...  \n",
       "1   47659.197756  [{'adj_p': 0.0, 'concept_code_1': 'HP:0012461'...  \n",
       "2   40400.379524  [{'adj_p': 0.0, 'concept_code_1': 'HP:0012461'...  "
      ]
     },
     "execution_count": 44,
     "metadata": {},
     "output_type": "execute_result"
    }
   ],
   "source": [
    "params = {\"dataset_id\" : \"1\", \"concept_id_1\": \"90012461\", \"top_n\": 3, \"domain_id\": \"phenotypes\"}\n",
    "response = requests.get(url + '/association/chiSquare',params= params, verify=False)\n",
    "print(response)\n",
    "response_json = response.json()\n",
    "domain_counts_df = pd.DataFrame(response_json['results'])\n",
    "domain_counts_df.head()"
   ]
  },
  {
   "cell_type": "markdown",
   "metadata": {},
   "source": [
    "##### Find concept by any string\n",
    "- seperate by ;\n",
    "- system will smartly detect the matching"
   ]
  },
  {
   "cell_type": "code",
   "execution_count": 46,
   "metadata": {},
   "outputs": [
    {
     "name": "stderr",
     "output_type": "stream",
     "text": [
      "/Users/cl3720/anaconda3/lib/python3.7/site-packages/urllib3/connectionpool.py:857: InsecureRequestWarning: Unverified HTTPS request is being made. Adding certificate verification is strongly advised. See: https://urllib3.readthedocs.io/en/latest/advanced-usage.html#ssl-warnings\n",
      "  InsecureRequestWarning)\n"
     ]
    },
    {
     "name": "stdout",
     "output_type": "stream",
     "text": [
      "<Response [200]>\n"
     ]
    },
    {
     "data": {
      "text/html": [
       "<div>\n",
       "<style scoped>\n",
       "    .dataframe tbody tr th:only-of-type {\n",
       "        vertical-align: middle;\n",
       "    }\n",
       "\n",
       "    .dataframe tbody tr th {\n",
       "        vertical-align: top;\n",
       "    }\n",
       "\n",
       "    .dataframe thead th {\n",
       "        text-align: right;\n",
       "    }\n",
       "</style>\n",
       "<table border=\"1\" class=\"dataframe\">\n",
       "  <thead>\n",
       "    <tr style=\"text-align: right;\">\n",
       "      <th></th>\n",
       "      <th>concept_code</th>\n",
       "      <th>concept_id</th>\n",
       "      <th>concept_name</th>\n",
       "      <th>domain_id</th>\n",
       "      <th>vocabulary_id</th>\n",
       "    </tr>\n",
       "  </thead>\n",
       "  <tbody>\n",
       "    <tr>\n",
       "      <th>0</th>\n",
       "      <td>HP:0003741</td>\n",
       "      <td>90003741</td>\n",
       "      <td>Congenital muscular dystrophy</td>\n",
       "      <td>phenotypes</td>\n",
       "      <td>hpo</td>\n",
       "    </tr>\n",
       "    <tr>\n",
       "      <th>1</th>\n",
       "      <td>HP:0007081</td>\n",
       "      <td>90007081</td>\n",
       "      <td>Late-onset muscular dystrophy</td>\n",
       "      <td>phenotypes</td>\n",
       "      <td>hpo</td>\n",
       "    </tr>\n",
       "    <tr>\n",
       "      <th>2</th>\n",
       "      <td>HP:0008970</td>\n",
       "      <td>90008970</td>\n",
       "      <td>Scapulohumeral muscular dystrophy</td>\n",
       "      <td>phenotypes</td>\n",
       "      <td>hpo</td>\n",
       "    </tr>\n",
       "    <tr>\n",
       "      <th>3</th>\n",
       "      <td>HP:0003560</td>\n",
       "      <td>90003560</td>\n",
       "      <td>Muscular dystrophy</td>\n",
       "      <td>phenotypes</td>\n",
       "      <td>hpo</td>\n",
       "    </tr>\n",
       "    <tr>\n",
       "      <th>4</th>\n",
       "      <td>HP:0006785</td>\n",
       "      <td>90006785</td>\n",
       "      <td>Limb-girdle muscular dystrophy</td>\n",
       "      <td>phenotypes</td>\n",
       "      <td>hpo</td>\n",
       "    </tr>\n",
       "  </tbody>\n",
       "</table>\n",
       "</div>"
      ],
      "text/plain": [
       "  concept_code  concept_id                       concept_name   domain_id  \\\n",
       "0   HP:0003741    90003741      Congenital muscular dystrophy  phenotypes   \n",
       "1   HP:0007081    90007081      Late-onset muscular dystrophy  phenotypes   \n",
       "2   HP:0008970    90008970  Scapulohumeral muscular dystrophy  phenotypes   \n",
       "3   HP:0003560    90003560                 Muscular dystrophy  phenotypes   \n",
       "4   HP:0006785    90006785     Limb-girdle muscular dystrophy  phenotypes   \n",
       "\n",
       "  vocabulary_id  \n",
       "0           hpo  \n",
       "1           hpo  \n",
       "2           hpo  \n",
       "3           hpo  \n",
       "4           hpo  "
      ]
     },
     "execution_count": 46,
     "metadata": {},
     "output_type": "execute_result"
    }
   ],
   "source": [
    "params = {\"q\" : \"MONDO:0000171;muscular dystrophy; 90003498\", \"domain_id\": \"phenotypes\"}\n",
    "response = requests.get(url + '/vocabulary/findConceptByAny',params= params, verify=False)\n",
    "print(response)\n",
    "response_json = response.json()\n",
    "domain_counts_df = pd.DataFrame(response_json['results'])\n",
    "domain_counts_df.head()"
   ]
  },
  {
   "cell_type": "code",
   "execution_count": null,
   "metadata": {},
   "outputs": [],
   "source": []
  }
 ],
 "metadata": {
  "interpreter": {
   "hash": "d6355949e83a00c32d6fe7e77f8367a2e3aa93e02600698d1d5f193ce2491dda"
  },
  "kernelspec": {
   "display_name": "Python 3.7.0 ('base')",
   "language": "python",
   "name": "python3"
  },
  "language_info": {
   "codemirror_mode": {
    "name": "ipython",
    "version": 3
   },
   "file_extension": ".py",
   "mimetype": "text/x-python",
   "name": "python",
   "nbconvert_exporter": "python",
   "pygments_lexer": "ipython3",
   "version": "3.7.0"
  },
  "orig_nbformat": 4
 },
 "nbformat": 4,
 "nbformat_minor": 2
}
